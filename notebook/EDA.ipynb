{
 "cells": [
  {
   "cell_type": "code",
   "execution_count": 38,
   "metadata": {},
   "outputs": [],
   "source": [
    "import numpy as np\n",
    "import pandas as pd\n",
    "\n",
    "from src.logger import logging"
   ]
  },
  {
   "cell_type": "code",
   "execution_count": 39,
   "metadata": {},
   "outputs": [],
   "source": [
    "try:\n",
    "    course_info_df = pd.read_csv('data/365_course_info.csv')\n",
    "    course_ratings_df = pd.read_csv('data/365_course_ratings.csv')\n",
    "    exam_info_df = pd.read_csv('data/365_exam_info.csv')\n",
    "    quiz_info_df = pd.read_csv('data/365_quiz_info.csv')\n",
    "    student_engagement_df = pd.read_csv('data/365_student_engagement.csv')\n",
    "    student_exams_df = pd.read_csv('data/365_student_exams.csv')\n",
    "    student_hub_questions_df = pd.read_csv('data/365_student_hub_questions.csv')\n",
    "    student_info_df = pd.read_csv('data/365_student_info.csv')\n",
    "    student_learning_df = pd.read_csv('data/365_student_learning.csv')\n",
    "    student_purchases_df = pd.read_csv('data/365_student_purchases.csv')\n",
    "    student_quizzes_df = pd.read_csv('data/365_student_quizzes.csv')\n",
    "\n",
    "    logging.info('Loaded dataframes')\n",
    "\n",
    "except Exception as e:\n",
    "    logging.exception(e)"
   ]
  },
  {
   "cell_type": "markdown",
   "metadata": {},
   "source": [
    "- Which courses are the most watched by students? How are they rated?\n",
    "- How would you define engagement (examples could be onboarding, minutes watched on the platform, exams/quizzes taken, etc.)?\n",
    "- What key performance indicators (KPIs) are relevant to the problem?\n",
    "- How many students register each month? What fraction of these students are also onboarded?\n",
    "- Do students watch more content with time? Is this seasonally dependent? Does it depend on marketing campaigns, promo periods, etc.?\n",
    "- How do the students engage with the platform based on user type (free or paid), subscription type (monthly, quarterly, or annual), and country?\n",
    "- Which are the countries with the most students registered? Does this number scale proportionally with the number of minutes watched per country?"
   ]
  },
  {
   "cell_type": "markdown",
   "metadata": {},
   "source": [
    "#### First Prompt"
   ]
  },
  {
   "cell_type": "code",
   "execution_count": 56,
   "metadata": {},
   "outputs": [
    {
     "data": {
      "text/html": [
       "<div>\n",
       "<style scoped>\n",
       "    .dataframe tbody tr th:only-of-type {\n",
       "        vertical-align: middle;\n",
       "    }\n",
       "\n",
       "    .dataframe tbody tr th {\n",
       "        vertical-align: top;\n",
       "    }\n",
       "\n",
       "    .dataframe thead th {\n",
       "        text-align: right;\n",
       "    }\n",
       "</style>\n",
       "<table border=\"1\" class=\"dataframe\">\n",
       "  <thead>\n",
       "    <tr style=\"text-align: right;\">\n",
       "      <th></th>\n",
       "      <th>course_id</th>\n",
       "      <th>course_title</th>\n",
       "      <th>course_rating</th>\n",
       "      <th>minutes_watched</th>\n",
       "    </tr>\n",
       "  </thead>\n",
       "  <tbody>\n",
       "    <tr>\n",
       "      <th>4</th>\n",
       "      <td>7</td>\n",
       "      <td>Introduction to Data and Data Science</td>\n",
       "      <td>4.86</td>\n",
       "      <td>333265.9</td>\n",
       "    </tr>\n",
       "    <tr>\n",
       "      <th>8</th>\n",
       "      <td>14</td>\n",
       "      <td>SQL</td>\n",
       "      <td>4.82</td>\n",
       "      <td>234824.8</td>\n",
       "    </tr>\n",
       "    <tr>\n",
       "      <th>13</th>\n",
       "      <td>21</td>\n",
       "      <td>Statistics</td>\n",
       "      <td>4.81</td>\n",
       "      <td>193279.6</td>\n",
       "    </tr>\n",
       "    <tr>\n",
       "      <th>15</th>\n",
       "      <td>23</td>\n",
       "      <td>Introduction to Excel</td>\n",
       "      <td>4.78</td>\n",
       "      <td>164472.1</td>\n",
       "    </tr>\n",
       "    <tr>\n",
       "      <th>10</th>\n",
       "      <td>16</td>\n",
       "      <td>Python Programmer Bootcamp</td>\n",
       "      <td>4.82</td>\n",
       "      <td>155164.3</td>\n",
       "    </tr>\n",
       "  </tbody>\n",
       "</table>\n",
       "</div>"
      ],
      "text/plain": [
       "    course_id                           course_title  course_rating  \\\n",
       "4           7  Introduction to Data and Data Science           4.86   \n",
       "8          14                                    SQL           4.82   \n",
       "13         21                             Statistics           4.81   \n",
       "15         23                  Introduction to Excel           4.78   \n",
       "10         16             Python Programmer Bootcamp           4.82   \n",
       "\n",
       "    minutes_watched  \n",
       "4          333265.9  \n",
       "8          234824.8  \n",
       "13         193279.6  \n",
       "15         164472.1  \n",
       "10         155164.3  "
      ]
     },
     "execution_count": 56,
     "metadata": {},
     "output_type": "execute_result"
    }
   ],
   "source": [
    "course_info_ratings = pd.merge(course_info_df, course_ratings_df[['course_id', 'course_rating']], on='course_id').groupby(['course_id', 'course_title']).mean().reset_index().round(2)\n",
    "\n",
    "course_info_ratings_learning = pd.merge(course_info_ratings, student_learning_df[['course_id', 'minutes_watched']], on='course_id')\n",
    "course_info_ratings_learning = course_info_ratings_learning.groupby(['course_id', 'course_title', 'course_rating']).sum().reset_index()\n",
    "\n",
    "course_info_ratings_learning.sort_values(by='minutes_watched', ascending=False, inplace=True)\n",
    "\n",
    "course_info_ratings_learning.head()"
   ]
  },
  {
   "cell_type": "markdown",
   "metadata": {},
   "source": [
    "#### Second Prompt"
   ]
  },
  {
   "cell_type": "code",
   "execution_count": null,
   "metadata": {},
   "outputs": [],
   "source": []
  }
 ],
 "metadata": {
  "kernelspec": {
   "display_name": "Python 3",
   "language": "python",
   "name": "python3"
  },
  "language_info": {
   "codemirror_mode": {
    "name": "ipython",
    "version": 3
   },
   "file_extension": ".py",
   "mimetype": "text/x-python",
   "name": "python",
   "nbconvert_exporter": "python",
   "pygments_lexer": "ipython3",
   "version": "3.10.12"
  },
  "orig_nbformat": 4
 },
 "nbformat": 4,
 "nbformat_minor": 2
}
