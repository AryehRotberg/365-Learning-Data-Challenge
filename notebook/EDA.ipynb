{
 "cells": [
  {
   "cell_type": "code",
   "execution_count": 4,
   "metadata": {},
   "outputs": [],
   "source": [
    "import pandas as pd\n",
    "\n",
    "from src.logger import logging"
   ]
  },
  {
   "cell_type": "code",
   "execution_count": 5,
   "metadata": {},
   "outputs": [],
   "source": [
    "try:\n",
    "    course_info_df = pd.read_csv('data/365_course_info.csv')\n",
    "    course_ratings_df = pd.read_csv('data/365_course_ratings.csv')\n",
    "    exam_info_df = pd.read_csv('data/365_exam_info.csv')\n",
    "    quiz_info_df = pd.read_csv('data/365_quiz_info.csv')\n",
    "    student_engagement_df = pd.read_csv('data/365_student_engagement.csv')\n",
    "    student_exams_df = pd.read_csv('data/365_student_exams.csv')\n",
    "    student_hub_questions_df = pd.read_csv('data/365_student_hub_questions.csv')\n",
    "    student_info_df = pd.read_csv('data/365_student_info.csv')\n",
    "    student_learning_df = pd.read_csv('data/365_student_learning.csv')\n",
    "    student_purchases_df = pd.read_csv('data/365_student_purchases.csv')\n",
    "    student_quizzes_df = pd.read_csv('data/365_student_quizzes.csv')\n",
    "\n",
    "    logging.info('Loaded dataframes')\n",
    "\n",
    "except Exception as e:\n",
    "    logging.exception(e)"
   ]
  },
  {
   "cell_type": "markdown",
   "metadata": {},
   "source": []
  },
  {
   "cell_type": "code",
   "execution_count": null,
   "metadata": {},
   "outputs": [],
   "source": []
  }
 ],
 "metadata": {
  "kernelspec": {
   "display_name": "Python 3",
   "language": "python",
   "name": "python3"
  },
  "language_info": {
   "codemirror_mode": {
    "name": "ipython",
    "version": 3
   },
   "file_extension": ".py",
   "mimetype": "text/x-python",
   "name": "python",
   "nbconvert_exporter": "python",
   "pygments_lexer": "ipython3",
   "version": "3.10.12"
  },
  "orig_nbformat": 4
 },
 "nbformat": 4,
 "nbformat_minor": 2
}
