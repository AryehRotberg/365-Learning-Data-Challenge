{
 "cells": [
  {
   "cell_type": "code",
   "execution_count": 134,
   "metadata": {},
   "outputs": [],
   "source": [
    "import numpy as np\n",
    "import pandas as pd\n",
    "\n",
    "from sklearn.pipeline import Pipeline\n",
    "from sklearn.preprocessing import StandardScaler\n",
    "from sklearn.model_selection import train_test_split, GridSearchCV, RandomizedSearchCV\n",
    "\n",
    "from imblearn.over_sampling import RandomOverSampler\n",
    "from imblearn.under_sampling import RandomUnderSampler\n",
    "\n",
    "from sklearn.linear_model import LogisticRegression\n",
    "from sklearn.tree import DecisionTreeClassifier\n",
    "from sklearn.ensemble import RandomForestClassifier, GradientBoostingClassifier\n",
    "from sklearn.naive_bayes import MultinomialNB\n",
    "from sklearn.neighbors import KNeighborsClassifier\n",
    "from sklearn.naive_bayes import MultinomialNB\n",
    "\n",
    "import seaborn as sns"
   ]
  },
  {
   "cell_type": "code",
   "execution_count": 100,
   "metadata": {},
   "outputs": [],
   "source": [
    "exam_info_df = pd.read_csv('data/raw/365_exam_info.csv')\n",
    "quiz_info_df = pd.read_csv('data/raw/365_quiz_info.csv')\n",
    "student_engagement_df = pd.read_csv('data/raw/365_student_engagement.csv')\n",
    "student_hub_questions_df = pd.read_csv('data/raw/365_student_hub_questions.csv')\n",
    "student_info_df = pd.read_csv('data/raw/365_student_info.csv')\n",
    "student_learning_df = pd.read_csv('data/raw/365_student_learning.csv')\n",
    "student_purchases_df = pd.read_csv('data/raw/365_student_purchases.csv')"
   ]
  },
  {
   "cell_type": "code",
   "execution_count": 101,
   "metadata": {},
   "outputs": [],
   "source": [
    "student_engagement_df.date_engaged = pd.to_datetime(student_engagement_df.date_engaged)\n",
    "student_hub_questions_df.date_question_asked = pd.to_datetime(student_hub_questions_df.date_question_asked)\n",
    "student_info_df.date_registered = pd.to_datetime(student_info_df.date_registered)\n",
    "student_learning_df.date_watched = pd.to_datetime(student_learning_df.date_watched)\n",
    "student_purchases_df.date_purchased = pd.to_datetime(student_purchases_df.date_purchased)"
   ]
  },
  {
   "cell_type": "code",
   "execution_count": 102,
   "metadata": {},
   "outputs": [],
   "source": [
    "# def has_student_engaged_with_quizzes(student_id: str):\n",
    "#     return (student_engagement_df[student_engagement_df.student_id == student_id].engagement_quizzes == 1).any()\n",
    "\n",
    "# def has_student_engaged_with_exams(student_id: str):\n",
    "#     return (student_engagement_df[student_engagement_df.student_id == student_id].engagement_exams == 1).any()"
   ]
  },
  {
   "cell_type": "code",
   "execution_count": 103,
   "metadata": {},
   "outputs": [],
   "source": [
    "# df = student_info_df.copy()\n",
    "\n",
    "# sum_minutes_watched = pd.merge(student_info_df.student_id, student_learning_df[['student_id', 'minutes_watched']], on='student_id', how='left')\n",
    "# sum_minutes_watched = sum_minutes_watched.fillna(0)\n",
    "# sum_minutes_watched = sum_minutes_watched.groupby('student_id').sum().reset_index()\n",
    "\n",
    "# days_engaged = student_engagement_df[['student_id', 'date_engaged']].groupby('student_id').size().reset_index()\n",
    "# days_engaged = pd.merge(student_info_df.student_id, days_engaged, on='student_id', how='left').fillna(0).astype(np.int32)\n",
    "# days_engaged = days_engaged.rename(columns={0: 'days_engaged'})\n",
    "\n",
    "# df = pd.merge(df.student_id, sum_minutes_watched, on='student_id')\n",
    "# df = pd.merge(df, days_engaged, on='student_id', how='left')\n",
    "\n",
    "# df['engaged_with_quizzes'] = df.student_id.map(has_student_engaged_with_quizzes)\n",
    "# df['engaged_with_exams'] = df.student_id.map(has_student_engaged_with_exams)\n",
    "# df['engaged_with_qa'] = df.student_id.isin(student_hub_questions_df.student_id)\n",
    "# df['subscribed'] = df.student_id.isin(student_purchases_df.student_id)\n",
    "\n",
    "# df = df[~((df.subscribed == True) & (df.days_engaged == 0))]\n",
    "# df = df.drop('student_id', axis=1)"
   ]
  },
  {
   "cell_type": "code",
   "execution_count": 105,
   "metadata": {},
   "outputs": [],
   "source": [
    "# df.to_csv('data/processed/ml_dataset.csv', index=False)"
   ]
  },
  {
   "cell_type": "code",
   "execution_count": 106,
   "metadata": {},
   "outputs": [
    {
     "data": {
      "text/html": [
       "<div>\n",
       "<style scoped>\n",
       "    .dataframe tbody tr th:only-of-type {\n",
       "        vertical-align: middle;\n",
       "    }\n",
       "\n",
       "    .dataframe tbody tr th {\n",
       "        vertical-align: top;\n",
       "    }\n",
       "\n",
       "    .dataframe thead th {\n",
       "        text-align: right;\n",
       "    }\n",
       "</style>\n",
       "<table border=\"1\" class=\"dataframe\">\n",
       "  <thead>\n",
       "    <tr style=\"text-align: right;\">\n",
       "      <th></th>\n",
       "      <th>minutes_watched</th>\n",
       "      <th>days_engaged</th>\n",
       "      <th>engaged_with_quizzes</th>\n",
       "      <th>engaged_with_exams</th>\n",
       "      <th>engaged_with_qa</th>\n",
       "      <th>subscribed</th>\n",
       "    </tr>\n",
       "  </thead>\n",
       "  <tbody>\n",
       "    <tr>\n",
       "      <th>0</th>\n",
       "      <td>0.3</td>\n",
       "      <td>1</td>\n",
       "      <td>False</td>\n",
       "      <td>False</td>\n",
       "      <td>False</td>\n",
       "      <td>False</td>\n",
       "    </tr>\n",
       "    <tr>\n",
       "      <th>1</th>\n",
       "      <td>0.0</td>\n",
       "      <td>0</td>\n",
       "      <td>False</td>\n",
       "      <td>False</td>\n",
       "      <td>False</td>\n",
       "      <td>False</td>\n",
       "    </tr>\n",
       "    <tr>\n",
       "      <th>2</th>\n",
       "      <td>531.2</td>\n",
       "      <td>29</td>\n",
       "      <td>True</td>\n",
       "      <td>True</td>\n",
       "      <td>False</td>\n",
       "      <td>True</td>\n",
       "    </tr>\n",
       "    <tr>\n",
       "      <th>3</th>\n",
       "      <td>0.0</td>\n",
       "      <td>0</td>\n",
       "      <td>False</td>\n",
       "      <td>False</td>\n",
       "      <td>False</td>\n",
       "      <td>False</td>\n",
       "    </tr>\n",
       "    <tr>\n",
       "      <th>4</th>\n",
       "      <td>0.0</td>\n",
       "      <td>0</td>\n",
       "      <td>False</td>\n",
       "      <td>False</td>\n",
       "      <td>False</td>\n",
       "      <td>False</td>\n",
       "    </tr>\n",
       "    <tr>\n",
       "      <th>...</th>\n",
       "      <td>...</td>\n",
       "      <td>...</td>\n",
       "      <td>...</td>\n",
       "      <td>...</td>\n",
       "      <td>...</td>\n",
       "      <td>...</td>\n",
       "    </tr>\n",
       "    <tr>\n",
       "      <th>35118</th>\n",
       "      <td>7.8</td>\n",
       "      <td>1</td>\n",
       "      <td>True</td>\n",
       "      <td>False</td>\n",
       "      <td>False</td>\n",
       "      <td>False</td>\n",
       "    </tr>\n",
       "    <tr>\n",
       "      <th>35119</th>\n",
       "      <td>10.4</td>\n",
       "      <td>1</td>\n",
       "      <td>True</td>\n",
       "      <td>False</td>\n",
       "      <td>False</td>\n",
       "      <td>False</td>\n",
       "    </tr>\n",
       "    <tr>\n",
       "      <th>35120</th>\n",
       "      <td>0.1</td>\n",
       "      <td>1</td>\n",
       "      <td>False</td>\n",
       "      <td>False</td>\n",
       "      <td>False</td>\n",
       "      <td>False</td>\n",
       "    </tr>\n",
       "    <tr>\n",
       "      <th>35121</th>\n",
       "      <td>0.0</td>\n",
       "      <td>0</td>\n",
       "      <td>False</td>\n",
       "      <td>False</td>\n",
       "      <td>False</td>\n",
       "      <td>False</td>\n",
       "    </tr>\n",
       "    <tr>\n",
       "      <th>35122</th>\n",
       "      <td>0.0</td>\n",
       "      <td>0</td>\n",
       "      <td>False</td>\n",
       "      <td>False</td>\n",
       "      <td>False</td>\n",
       "      <td>False</td>\n",
       "    </tr>\n",
       "  </tbody>\n",
       "</table>\n",
       "<p>35123 rows × 6 columns</p>\n",
       "</div>"
      ],
      "text/plain": [
       "       minutes_watched  days_engaged  engaged_with_quizzes  \\\n",
       "0                  0.3             1                 False   \n",
       "1                  0.0             0                 False   \n",
       "2                531.2            29                  True   \n",
       "3                  0.0             0                 False   \n",
       "4                  0.0             0                 False   \n",
       "...                ...           ...                   ...   \n",
       "35118              7.8             1                  True   \n",
       "35119             10.4             1                  True   \n",
       "35120              0.1             1                 False   \n",
       "35121              0.0             0                 False   \n",
       "35122              0.0             0                 False   \n",
       "\n",
       "       engaged_with_exams  engaged_with_qa  subscribed  \n",
       "0                   False            False       False  \n",
       "1                   False            False       False  \n",
       "2                    True            False        True  \n",
       "3                   False            False       False  \n",
       "4                   False            False       False  \n",
       "...                   ...              ...         ...  \n",
       "35118               False            False       False  \n",
       "35119               False            False       False  \n",
       "35120               False            False       False  \n",
       "35121               False            False       False  \n",
       "35122               False            False       False  \n",
       "\n",
       "[35123 rows x 6 columns]"
      ]
     },
     "execution_count": 106,
     "metadata": {},
     "output_type": "execute_result"
    }
   ],
   "source": [
    "df = pd.read_csv('data/processed/ml_dataset.csv')\n",
    "df"
   ]
  },
  {
   "cell_type": "code",
   "execution_count": 136,
   "metadata": {},
   "outputs": [],
   "source": [
    "X = df.drop('subscribed', axis=1)\n",
    "y = df.subscribed"
   ]
  },
  {
   "cell_type": "code",
   "execution_count": 137,
   "metadata": {},
   "outputs": [],
   "source": [
    "X_train, X_test, y_train, y_test = train_test_split(X, y, test_size=0.4)\n",
    "X_val, X_test, y_val, y_test = train_test_split(X_test, y_test, test_size=0.5)"
   ]
  },
  {
   "cell_type": "code",
   "execution_count": 138,
   "metadata": {},
   "outputs": [
    {
     "data": {
      "text/plain": [
       "(21073, 7025, 7025)"
      ]
     },
     "execution_count": 138,
     "metadata": {},
     "output_type": "execute_result"
    }
   ],
   "source": [
    "X_train.shape[0], X_val.shape[0], X_test.shape[0]"
   ]
  },
  {
   "cell_type": "code",
   "execution_count": 139,
   "metadata": {},
   "outputs": [],
   "source": [
    "ros = RandomOverSampler()\n",
    "rus = RandomUnderSampler()\n",
    "\n",
    "scaler = StandardScaler()\n",
    "\n",
    "X_train_oversampled, y_train_oversampled = ros.fit_resample(X_train, y_train)\n",
    "X_train_resampled, y_train_resampled = rus.fit_resample(X_train_oversampled, y_train_oversampled)\n",
    "\n",
    "X_train_scaled = scaler.fit_transform(X_train_resampled)"
   ]
  },
  {
   "cell_type": "code",
   "execution_count": 140,
   "metadata": {},
   "outputs": [
    {
     "data": {
      "text/plain": [
       "subscribed\n",
       "False    19852\n",
       "True     19852\n",
       "Name: count, dtype: int64"
      ]
     },
     "execution_count": 140,
     "metadata": {},
     "output_type": "execute_result"
    }
   ],
   "source": [
    "y_train_resampled.value_counts()"
   ]
  },
  {
   "cell_type": "code",
   "execution_count": 144,
   "metadata": {},
   "outputs": [
    {
     "data": {
      "text/plain": [
       "(39704, 5)"
      ]
     },
     "execution_count": 144,
     "metadata": {},
     "output_type": "execute_result"
    }
   ],
   "source": [
    "X_train_scaled.shape"
   ]
  }
 ],
 "metadata": {
  "kernelspec": {
   "display_name": "Python 3",
   "language": "python",
   "name": "python3"
  },
  "language_info": {
   "codemirror_mode": {
    "name": "ipython",
    "version": 3
   },
   "file_extension": ".py",
   "mimetype": "text/x-python",
   "name": "python",
   "nbconvert_exporter": "python",
   "pygments_lexer": "ipython3",
   "version": "3.10.12"
  },
  "orig_nbformat": 4
 },
 "nbformat": 4,
 "nbformat_minor": 2
}
